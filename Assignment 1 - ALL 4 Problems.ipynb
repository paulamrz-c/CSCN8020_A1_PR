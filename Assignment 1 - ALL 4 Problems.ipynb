{
 "cells": [
  {
   "cell_type": "markdown",
   "id": "e9d43e58",
   "metadata": {},
   "source": [
    "# **Assignment #1 Reinforcement Learning**"
   ]
  },
  {
   "cell_type": "code",
   "execution_count": 1,
   "id": "03067209",
   "metadata": {},
   "outputs": [],
   "source": [
    "import sys\n",
    "sys.path.append(\"src\")\n",
    "import numpy as np\n",
    "import pandas as pd \n",
    "import matplotlib.pyplot as plt\n",
    "import time\n",
    "import random\n",
    "from gridworld import GridWorld\n",
    "from value_iteration_agent import Agent\n"
   ]
  },
  {
   "cell_type": "markdown",
   "id": "a093ee8b",
   "metadata": {},
   "source": [
    "## *Problem 1 -> Pick-and-Place Robot*\n",
    "\n",
    "Model a simple Pick-and-Place robot as an MDP and build a Gym-style environment. I solve this using a 2D space.\n"
   ]
  },
  {
   "cell_type": "markdown",
   "id": "5fc64a83",
   "metadata": {},
   "source": [
    "> **States (S):** Each state is defined as (x,y,v_x,v_y,h), where (x,y)is the gripper position, (v_x,v_y)the velocity, and ha binary flag for holding the object.\n",
    "\n",
    "\n",
    "> **Actions (A):** {move left, move right, move up, move down, open gripper, close gripper}.\n",
    "\n",
    "> **Transitions (P):** Determined by the environment’s physics — actions update the gripper’s position, velocity, and whether it holds the object.\n",
    "\n",
    "> **Rewards (R):**\n",
    "- +100 for successfully placing the object at the goal. _A strong positive reward signals the main goal of the task (placing the object at B). Without this, the agent wouldn’t know what “success” means._\n",
    "- –1 per timestep. _Encourages the robot to complete the task quickly, instead of wasting time wandering_\n",
    "- –5 for jerky motion (encourages smoothness). _Penalizes sharp velocity changes to teach the robot to move smoothly, not just fast._\n",
    "- –10 if the object is dropped. _Prevents careless opening of the gripper before reaching the target._\n",
    "- +1 for moving closer to the object (if empty) or the goal (if holding). _This helps the agent learn faster by rewarding progress, not just the final goal._\n",
    "\n",
    "> **Policy (π):** The RL agent learns a mapping s→a, selecting actions that maximize expected return (fast, smooth, successful pick-and-place).\n"
   ]
  },
  {
   "cell_type": "code",
   "execution_count": 2,
   "id": "fcb7830a",
   "metadata": {},
   "outputs": [],
   "source": [
    "class PickAndPlaceEnv:\n",
    "    def __init__(self):\n",
    "        # State = (x, y, vx, vy, h)\n",
    "        self.state = None\n",
    "        self.goal = np.array([5, 5])      # target location (B)\n",
    "        self.object_pos = np.array([2, 2])  # object location (A)\n",
    "        self.max_steps = 10\n",
    "        self.steps = 0\n",
    "        self.action_space = 6  # {left, right, up, down, open, close}\n",
    "\n",
    "    def reset(self):\n",
    "        # Reset environment\n",
    "        self.state = np.array([0, 0, 0, 0, 0])  # (x, y, vx, vy, h=0)\n",
    "        self.steps = 0\n",
    "        return self.state\n",
    "\n",
    "    def step(self, action):\n",
    "        x, y, vx, vy, h = self.state\n",
    "        self.steps += 1\n",
    "        reward = -1  # per timestep penalty\n",
    "\n",
    "        # --- Actions ---\n",
    "        if action == 0: x -= 1  # left\n",
    "        elif action == 1: x += 1  # right\n",
    "        elif action == 2: y += 1  # up\n",
    "        elif action == 3: y -= 1  # down\n",
    "        elif action == 4: h = 0   # open gripper\n",
    "        elif action == 5: \n",
    "            if (x, y) == tuple(self.object_pos):  \n",
    "                h = 1  # grab object\n",
    "\n",
    "        # --- Rewards ---\n",
    "        # 1. Success reward\n",
    "        if h == 1 and (x, y) == tuple(self.goal):  \n",
    "            reward += 100\n",
    "            done = True\n",
    "        else:\n",
    "            done = False\n",
    "\n",
    "        # 2. Jerky movement penalty\n",
    "        new_vx, new_vy = x - self.state[0], y - self.state[1]\n",
    "        if abs(new_vx - vx) + abs(new_vy - vy) > 1:\n",
    "            reward -= 5\n",
    "\n",
    "        # 3. Drop penalty\n",
    "        if action == 4 and self.state[4] == 1 and (x, y) != tuple(self.goal):\n",
    "            reward -= 10\n",
    "\n",
    "        # 4. Closer shaping reward\n",
    "        prev_pos = self.state[:2]\n",
    "        if self.state[4] == 0:  # not holding yet\n",
    "            prev_dist = np.linalg.norm(self.object_pos - prev_pos)\n",
    "            new_dist  = np.linalg.norm(self.object_pos - np.array([x,y]))\n",
    "        else:  # holding object\n",
    "            prev_dist = np.linalg.norm(self.goal - prev_pos)\n",
    "            new_dist  = np.linalg.norm(self.goal - np.array([x,y]))\n",
    "        if new_dist < prev_dist:\n",
    "            reward += 1\n",
    "\n",
    "        # Update state\n",
    "        self.state = np.array([x, y, new_vx, new_vy, h])\n",
    "\n",
    "        # Episode termination\n",
    "        if self.steps >= self.max_steps:\n",
    "            done = True\n",
    "\n",
    "        return self.state, reward, done, {}\n",
    "\n",
    "    def render(self):\n",
    "        print(f\"Gripper: ({self.state[0]}, {self.state[1]}) | Holding: {self.state[4]}\")\n"
   ]
  },
  {
   "cell_type": "markdown",
   "id": "ba8926de",
   "metadata": {},
   "source": [
    "### *Testing the Environment*"
   ]
  },
  {
   "cell_type": "code",
   "execution_count": 3,
   "id": "82905803",
   "metadata": {},
   "outputs": [
    {
     "name": "stdout",
     "output_type": "stream",
     "text": [
      "Initial State: [0 0 0 0 0]\n",
      "Action: 5, Next State: [0 0 0 0 0], Reward: -1\n",
      "Gripper: (0, 0) | Holding: 0\n",
      "Action: 3, Next State: [ 0 -1  0 -1  0], Reward: -1\n",
      "Gripper: (0, -1) | Holding: 0\n",
      "Action: 3, Next State: [ 0 -2  0 -1  0], Reward: -1\n",
      "Gripper: (0, -2) | Holding: 0\n",
      "Action: 3, Next State: [ 0 -3  0 -1  0], Reward: -1\n",
      "Gripper: (0, -3) | Holding: 0\n",
      "Action: 1, Next State: [ 1 -3  1  0  0], Reward: -5\n",
      "Gripper: (1, -3) | Holding: 0\n",
      "Action: 4, Next State: [ 1 -3  0  0  0], Reward: -1\n",
      "Gripper: (1, -3) | Holding: 0\n",
      "Action: 0, Next State: [ 0 -3 -1  0  0], Reward: -1\n",
      "Gripper: (0, -3) | Holding: 0\n",
      "Action: 1, Next State: [ 1 -3  1  0  0], Reward: -5\n",
      "Gripper: (1, -3) | Holding: 0\n",
      "Action: 2, Next State: [ 1 -2  0  1  0], Reward: -5\n",
      "Gripper: (1, -2) | Holding: 0\n",
      "Action: 1, Next State: [ 2 -2  1  0  0], Reward: -5\n",
      "Gripper: (2, -2) | Holding: 0\n"
     ]
    }
   ],
   "source": [
    "env = PickAndPlaceEnv()\n",
    "state = env.reset()\n",
    "print(\"Initial State:\", state)\n",
    "\n",
    "done = False\n",
    "while not done:\n",
    "    action = np.random.randint(0, env.action_space)  # random action\n",
    "    next_state, reward, done, info = env.step(action)\n",
    "    print(f\"Action: {action}, Next State: {next_state}, Reward: {reward}\")\n",
    "    env.render()\n"
   ]
  },
  {
   "cell_type": "markdown",
   "id": "aad29b1f",
   "metadata": {},
   "source": [
    "## *Problem 2 -> 2x2 Gridworld:*\n",
    "\n",
    "Model a simple Pick-and-Place robot as an MDP and build a Gym-style environment.\n",
    "\n",
    "**_Based on:_**\n",
    "\n",
    "- State Space (S): s1, s2, s3, s4.\n",
    "- Action Space (A): up, down, left, right.\n",
    "- Initial Policy (π): For all states, π(up|s) = 1.\n",
    "- Transition Probabilities P(s′|s, a):\n",
    "    - If the action is valid (does not run into a wall), the transition is deterministic.\n",
    "    - Otherwise, s′ = s.\n",
    "- Rewards R(s):\n",
    "    - R(s1) = 5 for all actions a.\n",
    "    - R(s2) = 10 for all actions a.\n",
    "    - R(s3) = 1 for all actions a.\n",
    "    - R(s4) = 2 for all actions a.\n",
    "\n",
    "**_Assumptions_**\n",
    "Using a discount factor γ = 0.9.\n",
    "Initial values 𝑉0(𝑠)=0 for all 𝑠\n",
    "\n",
    "**_Transition map (next state for each action):_**\n",
    "- From s1: up→s1, down→s3, left→s1, right→s2.\n",
    "- From s2: up→s2, down→s4, left→s1, right→s2.\n",
    "- From s3: up→s1, down→s3, left→s3, right→s4.\n",
    "- From s4: up→s2, down→s4, left→s3, right→s4.\n",
    "\n",
    "**_Value-iteration update:_**\n",
    "\n",
    "Vk+1​(s) = R(s) + γmaxa​[Vk​(s′)] \n"
   ]
  },
  {
   "cell_type": "markdown",
   "id": "8a7426b5",
   "metadata": {},
   "source": [
    "### *Iteration 1*\n",
    "\n",
    "\n",
    "**1. Show the initial value function (V) for each state.**\n",
    "V0​(s1)=0, V0​(s2)=0, V0​(s3)=0, V0​(s4)=0.\n",
    "\n",
    "**2. Perform value function updates (One-step Bellman optimality backup)**\n",
    "- For each state s and action a:\n",
    "Since all V₀≡0, the max term is 0.\n",
    "- V(k+1)(s)=r(s)+0\n",
    "- V(1)(s1​)=r(s1​), V(1)(s2​)=r(s2​), V(1)(s3​)=r(s3​), V(1)(s4​)=r(s4​)\n",
    "\n",
    "**3. Show the updated value function.**\n",
    ">    - V1​(s1)=5, V1​(s2)=10, V1​(s3)=1, V1​(s4)=2\n",
    "\n",
    "_Policy improvement:_\n",
    "Greedy policy after Iter. 1, from 𝑉1\n",
    "Goal: given 𝑉𝜋 improve 𝜋 greedily.\n",
    "- Q1​(s,a)=R(s)+γV1​(s′)\n",
    "- due to 𝑉0=0 , Q1​(s,a)=R(s)\n",
    "    - s1: up/left→ 5+0.9⋅5=9.5; down→5+0.9⋅1=5.9; right→ 5+0.9⋅10=14 ⇒ **pick right**.\n",
    "\t- s2: up/right→ 10+0.9⋅10=19; down→11.8; left→14.5 ⇒ **pick up or right (tie)**.\n",
    "\t- s3: up→ 1+0.9⋅5=5.5; right→ 2.8; down/left→ 1.9 ⇒ **pick up**.\n",
    "\t- s4: up→ 2+0.9⋅10=11; right/down→ 3.8; left→ 2.9 ⇒ **pick up**\n"
   ]
  },
  {
   "cell_type": "markdown",
   "id": "16aaa0a7",
   "metadata": {},
   "source": [
    "### *Iteration 2*\n",
    "Using V1 to calculate V2\n",
    "\n",
    "**1. Show the initial value function (V) for each state.**\n",
    "V1​(s1)=5, V1​(s2)=10, V1​(s3)=1, V1​(s4)=2.\n",
    "\n",
    "**2. Perform value function updates.**\n",
    "- V(k+1)(s)=r(s)+ γmaxa​[Vk​(s′)]\n",
    "\n",
    "- V2(s1)=5 +0.9 * max{V1(s1=5), V1(s3=1), V1(s1=5), V1(s2=10)} =5+0.9⋅10 =14\n",
    "- V2(s2)=10 +0.9 * max{10,2,5,10} =10+0.9⋅10 =19\n",
    "- V2(s3)=1 +0.9 * max{5,1,1,2} =1+0.9⋅5 =5.5\n",
    "- V2(s4)=2 +0.9 * max{10,2,1,2} =2+0.9⋅10 =11\n",
    "\n",
    "\n",
    "**3. Show the updated value function.**\n",
    ">  V2​(s1)=14, V2​(s2)=19, V2​(s3)=5.5, V2​(s4)=11\n",
    "\n",
    "_Policy improvement:_\n",
    "Greedy policy after Iter. 1, from 𝑉2\n",
    "Goal: given 𝑉𝜋 improve 𝜋 greedily.\n",
    "- Q1​(s,a)=R(s)+γV1​(s′)\n",
    "    - s1 (R=5)\n",
    "    up: 17.6 (→ s1) · down: 9.95 (→ s3) · left: 17.6 (→ s1) · right: 22.1 (→ s2)\n",
    "    - s2 (R=10)\n",
    "    up: 27.1 (→ s2) · down: 19.9 (→ s4) · left: 22.6 (→ s1) · right: 27.1 (→ s2)\n",
    "    - s3 (R=1)\n",
    "    up: 13.6 (→ s1) · down: 5.95 (→ s3) · left: 5.95 (→ s3) · right: 10.9 (→ s4)\n",
    "    - s4 (R=2)\n",
    "    up: 19.1 (→ s2) · down: 11.9 (→ s4) · left: 6.95 (→ s3) · right: 11.9 (→ s4)\n"
   ]
  },
  {
   "cell_type": "markdown",
   "id": "0bc0689b",
   "metadata": {},
   "source": [
    "## *Problem 3 -> 5x5 Gridworld*\n",
    "\n",
    "Model a simple Pick-and-Place robot as an MDP and build a Gym-style environment. I solve this using a 2D space.\n"
   ]
  },
  {
   "cell_type": "markdown",
   "id": "3449640f",
   "metadata": {},
   "source": [
    "### Task1: Update MDP Code\n",
    "Rebuild the reward structure based on the matrix given in the assignment.\n",
    "\n",
    "**Build environment and update reward by state type**\n",
    "1. Update the reward function to be a list of reward based on whether the state is terminal, grey,\n",
    "or a regular state."
   ]
  },
  {
   "cell_type": "code",
   "execution_count": 4,
   "id": "feba257f",
   "metadata": {},
   "outputs": [],
   "source": [
    "# create the environment (5x5 for example)\n",
    "env = GridWorld(env_size=5)\n",
    "\n",
    "# Define the grey states \n",
    "grey_states = {(1,2), (3,0), (0,4)}\n",
    "\n",
    "# Define reward values for each type\n",
    "rewards_map = {\n",
    "    \"regular\": -1.0,\n",
    "    \"grey\": -5.0,\n",
    "    \"terminal\": 10\n",
    "}\n",
    "\n",
    "# Function to build the reward matrix based on state types\n",
    "def build_rewards_by_type(env, grey_states, rewards_map):\n",
    "    # start with all regular rewards\n",
    "    R = np.full((env.env_size, env.env_size), rewards_map[\"regular\"], dtype=float)    \n",
    "    # assign grey rewards\n",
    "    for (i,j) in grey_states:\n",
    "        R[i,j] = rewards_map[\"grey\"]    \n",
    "    # assign terminal reward\n",
    "    R[env.terminal_state] = rewards_map[\"terminal\"]    \n",
    "    return R\n",
    "\n",
    "# Replace the environment's reward matrix\n",
    "env.reward = build_rewards_by_type(env, grey_states, rewards_map)\n",
    "\n",
    "# Function to print the reward matrix \n",
    "def print_value_table(V):\n",
    "    for i in range(V.shape[0]):\n",
    "        print(\" \".join(f\"{V[i, j]:6.1f}\" for j in range(V.shape[1])))\n"
   ]
  },
  {
   "cell_type": "markdown",
   "id": "b99f93c7",
   "metadata": {},
   "source": [
    "**Print the updated reward matrix.**\n"
   ]
  },
  {
   "cell_type": "code",
   "execution_count": 5,
   "id": "a73feb67",
   "metadata": {},
   "outputs": [
    {
     "data": {
      "image/png": "[encoded data removed]",
      "text/plain": [
       "<Figure size 400x400 with 1 Axes>"
      ]
     },
     "metadata": {},
     "output_type": "display_data"
    }
   ],
   "source": [
    "plt.figure(figsize=(4,4))\n",
    "plt.imshow(env.reward, cmap=\"cividis\", origin=\"upper\")\n",
    "\n",
    "# Annotate each cell with its reward value\n",
    "for i in range(env.reward.shape[0]):\n",
    "    for j in range(env.reward.shape[1]):\n",
    "        plt.text(j, i, int(env.reward[i, j]), ha=\"center\", va=\"center\", color=\"black\")\n",
    "\n",
    "plt.title(\"Reward Matrix with Colors\")\n",
    "plt.show()\n"
   ]
  },
  {
   "cell_type": "markdown",
   "id": "34955aa4",
   "metadata": {},
   "source": [
    "**Run existing Value Iteration and display V*** **and greedy policy π**\n",
    "\n",
    "2. Run the existing code developed in class and obtain the optimal state-values and optimal policy.\n",
    "Provide a figures of the gridworld with the obtained V∗ and π∗ (You can manually create a table)."
   ]
  },
  {
   "cell_type": "code",
   "execution_count": 6,
   "id": "6931af52",
   "metadata": {},
   "outputs": [
    {
     "name": "stdout",
     "output_type": "stream",
     "text": [
      "Converged in 9 iterations\n"
     ]
    }
   ],
   "source": [
    "# Create environment\n",
    "agent = Agent(env)\n",
    "\n",
    "start_time = time.time()\n",
    "max_iterations = 1000\n",
    "theta = 0.01\n",
    "agent.gamma = 0.9\n",
    "\n",
    "# run value iteration normally\n",
    "for it in range(max_iterations):\n",
    "    delta = 0\n",
    "    new_V = np.copy(agent.get_value_function())\n",
    "    for i in range(env.env_size):\n",
    "        for j in range(env.env_size):\n",
    "            if not env.is_terminal_state(i, j):\n",
    "                new_V[i, j], _, _ = agent.calculate_max_value(i,j)\n",
    "                delta = max(delta, abs(agent.V[i,j] - new_V[i,j]))\n",
    "    agent.update_value_function(new_V)\n",
    "        # stopping criteria\n",
    "    if delta < theta:\n",
    "        print(f\"Converged in {it+1} iterations\")\n",
    "        break\n",
    "\n",
    "end_time = time.time()\n"
   ]
  },
  {
   "cell_type": "code",
   "execution_count": 7,
   "id": "c8329b15",
   "metadata": {},
   "outputs": [
    {
     "name": "stdout",
     "output_type": "stream",
     "text": [
      "Execution time 0.0031881332397460938 seconds\n"
     ]
    }
   ],
   "source": [
    "print(\"Execution time\", end_time - start_time, \"seconds\")"
   ]
  },
  {
   "cell_type": "code",
   "execution_count": 8,
   "id": "f6e0c8d6",
   "metadata": {},
   "outputs": [],
   "source": [
    "# Compute policy improvement \n",
    "agent.update_greedy_policy()\n",
    "ARROWS = {\n",
    "    0: \"→\",   # Right\n",
    "    1: \"←\",   # Left\n",
    "    2: \"↓\",   # Down\n",
    "    3: \"↑\",   # Up\n",
    "}\n",
    "V_star = agent.get_value_function()\n",
    "pi_star = agent.get_policy()   \n"
   ]
  },
  {
   "cell_type": "markdown",
   "id": "d2f0ecc9",
   "metadata": {},
   "source": [
    "**Heatmap for V*** **with arrows for π**"
   ]
  },
  {
   "cell_type": "code",
   "execution_count": 9,
   "id": "0316b3f2",
   "metadata": {},
   "outputs": [
    {
     "data": {
      "image/png": "[encoded data removed]",
      "text/plain": [
       "<Figure size 400x400 with 1 Axes>"
      ]
     },
     "metadata": {},
     "output_type": "display_data"
    }
   ],
   "source": [
    "def plot_heatmap_with_policy(V, pi, title=\"V* with π*\"):\n",
    "    n = V.shape[0]\n",
    "    fig, ax = plt.subplots(figsize=(4,4))\n",
    "    cax = ax.matshow(V, cmap=\"coolwarm\", alpha=0.8)\n",
    "\n",
    "\n",
    "    # Add values and arrows on each cell\n",
    "    for i in range(n):\n",
    "        for j in range(n):\n",
    "            ax.text(j, i, f\"{V[i,j]:.1f}\", va=\"center\", ha=\"center\", color=\"black\", fontsize=9)\n",
    "            if pi is not None and pi[i,j] in ARROWS:\n",
    "                ax.text(j, i+0.3, ARROWS[pi[i,j]], va=\"center\", ha=\"center\", color=\"black\", fontsize=14)\n",
    "    \n",
    "    ax.set_xticks(range(n))\n",
    "    ax.set_yticks(range(n))\n",
    "    ax.set_xticklabels(range(n))\n",
    "    ax.set_yticklabels(range(n))\n",
    "    ax.set_title(title, fontsize=14)\n",
    "    plt.show()\n",
    "\n",
    "# Run it with your Value Iteration results\n",
    "plot_heatmap_with_policy(V_star, pi_star, \"Optimal Value Function V* and Policy π*\")\n"
   ]
  },
  {
   "cell_type": "markdown",
   "id": "69e903ad",
   "metadata": {},
   "source": [
    "### Task 2: Value Iteration Variations\n",
    "\n",
    "1. In-Place Value Iteration: Use a single array to store the state values. This means that you\n",
    "update the value of a state and immediately use that updated value in the subsequent updates."
   ]
  },
  {
   "cell_type": "code",
   "execution_count": 10,
   "id": "4192087d",
   "metadata": {},
   "outputs": [
    {
     "name": "stdout",
     "output_type": "stream",
     "text": [
      "Converged in 9 iterations\n"
     ]
    }
   ],
   "source": [
    "# Same setup as in Task 1\n",
    "env_inplace = GridWorld(env_size=5)\n",
    "# Replacing the custom reward matrix and assigns it to the environment\n",
    "env_inplace.reward = build_rewards_by_type(env_inplace, grey_states, rewards_map)\n",
    "# Create the agent\n",
    "agent = Agent(env_inplace)\n",
    "agent.gamma = 0.9\n",
    "\n",
    "# In-place Value Iteration\n",
    "start_time = time.time()\n",
    "max_iterations = 1000\n",
    "theta = 0.01\n",
    "\n",
    "for it in range(max_iterations):\n",
    "    delta = 0\n",
    "    for i in range(env.env_size):\n",
    "        for j in range(env.env_size):\n",
    "            if not env.is_terminal_state(i, j):\n",
    "                # In-place update: directly overwrite V[i,j]\n",
    "                new_value, _, _ = agent.calculate_max_value(i, j)\n",
    "                delta = max(delta, abs(agent.V[i,j] - new_value))\n",
    "                # Each state's value is updated directly in agent.V.\n",
    "                agent.V[i,j] = new_value\n",
    "    if delta < theta:\n",
    "        print(f\"Converged in {it+1} iterations\")\n",
    "        break\n",
    "\n",
    "end_time = time.time()\n"
   ]
  },
  {
   "cell_type": "code",
   "execution_count": 11,
   "id": "c06b2389",
   "metadata": {},
   "outputs": [
    {
     "name": "stdout",
     "output_type": "stream",
     "text": [
      "Execution time (in-place): 0.0029916763305664062 seconds\n"
     ]
    }
   ],
   "source": [
    "print(\"Execution time (in-place):\", end_time - start_time, \"seconds\")"
   ]
  },
  {
   "cell_type": "code",
   "execution_count": 12,
   "id": "eb5a7ca3",
   "metadata": {},
   "outputs": [],
   "source": [
    "#Compute and display optimal policy\n",
    "agent.update_greedy_policy()\n",
    "V_star_inplace = agent.get_value_function()\n",
    "pi_star_inplace = agent.get_policy()"
   ]
  },
  {
   "cell_type": "code",
   "execution_count": 13,
   "id": "1666dd87",
   "metadata": {},
   "outputs": [
    {
     "data": {
      "image/png": "[encoded data removed]",
      "text/plain": [
       "<Figure size 400x400 with 1 Axes>"
      ]
     },
     "metadata": {},
     "output_type": "display_data"
    }
   ],
   "source": [
    "# Run it with your Value Iteration results\n",
    "plot_heatmap_with_policy(V_star_inplace, pi_star_inplace, \"Optimal Value Function V* and Policy π* (In-Place)\")\n"
   ]
  },
  {
   "cell_type": "markdown",
   "id": "8ce29a1b",
   "metadata": {},
   "source": [
    "### **Notes on Computational Complexity**\n",
    "\n",
    "- Both variations (normal and in-place) converge to the same optimal value function V^*and optimal policy π^*.\n",
    "- In our 5x5 GridWorld, both required 9 iterations to converge with θ = 0.01.\n",
    "- The execution time was 0.0031 seg (normal) vs 0.0029 seg (in-place).\n",
    "- The theoretical computational complexity is the same, O(∣S∣⋅∣A∣)per iteration. However, in-place updates can reduce the total number of iterations in larger environments, since each state update immediately benefits from previously updated neighbor values.\n",
    "\n"
   ]
  },
  {
   "cell_type": "markdown",
   "id": "6c78dde3",
   "metadata": {},
   "source": [
    "## *Problem 4 ->Off-policy Monte Carlo with Importance Sampling*\n",
    "\n",
    "estimate the value function for the given gridworld. Use a fixed behavior policy b(a|s) (e.g., a random policy) to generate episodes and a greedy target policy.\n"
   ]
  },
  {
   "cell_type": "markdown",
   "id": "21a59888",
   "metadata": {},
   "source": [
    "**Helpers functions:**\n",
    "\n",
    "These helper functions are used to manage actions and policies in the gridworld: \n",
    "- **valid_actions** checks which moves are possible from a state, **behavior_policy_sample** generates a random valid action under the behavior policy with its probability, and **greedy_action** selects the best action according to the current Q-values for the target policy.\n",
    "\n",
    "Together they allow us to generate episodes and update the greedy policy during the Monte Carlo algorithm."
   ]
  },
  {
   "cell_type": "code",
   "execution_count": 14,
   "id": "eb1610c5",
   "metadata": {},
   "outputs": [],
   "source": [
    "env = GridWorld(env_size=5)\n",
    "env.reward = build_rewards_by_type(env, grey_states, rewards_map)\n",
    "\n",
    "ACTIONS = list(range(len(env.get_actions())))   # [0:→, 1:←, 2:↓, 3:↑]\n",
    "\n",
    "# Helpers: valid actions, behavior policy b, greedy target π\n",
    "#Chechk which actions are valid from the gridworld environment\n",
    "def valid_actions(env, i, j):\n",
    "    \"\"\"\n",
    "    Returns a list of action indices that lead to a different valid state.\n",
    "    This avoids 'bouncing' in place due to invalid moves.\n",
    "    \"\"\"\n",
    "    valid = []\n",
    "    for a in ACTIONS:\n",
    "        di, dj = env.get_actions()[a]\n",
    "        ni, nj = i + di, j + dj\n",
    "        if env.is_valid_state(ni, nj):\n",
    "            valid.append(a)\n",
    "    return valid\n",
    "\n",
    "# Choose an action uniformly at random from valid actions and return its probability \n",
    "# E.g., (0,0) valid actions (0, 0.5) o (2, 0.5) --> 1/2\n",
    "def behavior_policy_sample(env, i, j):\n",
    "    \"\"\"\n",
    "    Uniform random over valid actions.\n",
    "    Returns (action_index, b_prob).\n",
    "    \"\"\"\n",
    "    va = valid_actions(env, i, j)\n",
    "    # Fallback (shouldn't happen): if no valid actions, pick any\n",
    "    if len(va) == 0:\n",
    "        return random.choice(ACTIONS), 1.0/len(ACTIONS)\n",
    "    a = random.choice(va)\n",
    "    b_prob = 1.0 / len(va)\n",
    "    return a, b_prob\n",
    "\n",
    "# Choose the greedy action wrt Q(s,a)\n",
    "# E.g., (2,3) Q(2,3,→)=5, Q(2,3,↓)=7 --> action 2 (Down)\n",
    "def greedy_action(Q, i, j):\n",
    "    \"\"\"\n",
    "    Deterministic greedy wrt Q(s,a). Ties broken by lowest action index.\n",
    "    Only considers valid actions for the target policy.\n",
    "    \"\"\"\n",
    "    va = valid_actions(env, i, j)\n",
    "    best_a = va[0]\n",
    "    best_q = Q[i, j, best_a]\n",
    "    for a in va[1:]:\n",
    "        if Q[i, j, a] > best_q:\n",
    "            best_q, best_a = Q[i, j, a], a\n",
    "    return best_a"
   ]
  },
  {
   "cell_type": "markdown",
   "id": "1b6f20c3",
   "metadata": {},
   "source": [
    "**Episode Generation:**\n",
    "\n",
    "The next two functions are used to create episodes for Monte Carlo learning: \n",
    "- **random_non_terminal_stat**e selects a random starting point in the grid that is not terminal, and **generate_episode** simulates a full trajectory from that start by following the behavior policy until reaching a terminal state or the step limit, recording states, actions, rewards, and probabilities for later updates."
   ]
  },
  {
   "cell_type": "code",
   "execution_count": 15,
   "id": "9e9269b2",
   "metadata": {},
   "outputs": [],
   "source": [
    "# Generate an episode using behavior policy b\n",
    "def random_non_terminal_state(env):\n",
    "    \"\"\"\n",
    "    Sample a random start state that is not terminal.\n",
    "    \"\"\"\n",
    "    while True:\n",
    "        i = random.randrange(env.env_size)\n",
    "        j = random.randrange(env.env_size)\n",
    "        if not env.is_terminal_state(i, j):\n",
    "            return (i, j)\n",
    "\n",
    "def generate_episode(env, gamma=0.9, max_steps=200):\n",
    "    \"\"\"\n",
    "    Returns a list of transitions: [(i,j,a,r,b_prob), ...] until terminal or max_steps.\n",
    "    We store b_prob for importance sampling weights later.\n",
    "    \"\"\"\n",
    "    episode = []\n",
    "    i, j = random_non_terminal_state(env)\n",
    "    for _ in range(max_steps):\n",
    "        a, b_prob = behavior_policy_sample(env, i, j)\n",
    "        ni, nj, r, done = env.step(a, i, j)\n",
    "        episode.append((i, j, a, r, b_prob))\n",
    "        i, j = ni, nj\n",
    "        if done:\n",
    "            break\n",
    "    return episode"
   ]
  },
  {
   "cell_type": "markdown",
   "id": "fbe7460c",
   "metadata": {},
   "source": [
    "**Function off-policy Monte Carlo with IS**\n",
    "\n",
    "It generates many episodes using the behavior policy, then goes backwards through each episode to compute returns, applies importance sampling weights to correct for the difference between the behavior and greedy target policy, and updates the Q-values; in the end, it estimates the **value function 𝑉(𝑠)** and the **greedy policy 𝜋(𝑠).**"
   ]
  },
  {
   "cell_type": "code",
   "execution_count": null,
   "id": "10bb2666",
   "metadata": {},
   "outputs": [],
   "source": [
    "# Off-policy MC control with Weighted IS (Sutton & Barto)\n",
    "\n",
    "def offpolicy_mc_control(env, num_episodes=5000, gamma=0.9):\n",
    "    \"\"\"\n",
    "    Estimates Q(s,a) off-policy using a fixed behavior b and a greedy target π.\n",
    "    Uses weighted importance sampling with backward updates and cumulative weights C(s,a).\n",
    "    \"\"\"\n",
    "    n = env.env_size\n",
    "    nA = len(ACTIONS)\n",
    "    Q = np.zeros((n, n, nA), dtype=float)\n",
    "    C = np.zeros_like(Q)  # cumulative weights for each (s,a)\n",
    "\n",
    "    start = time.time()\n",
    "    for ep in range(1, num_episodes + 1):\n",
    "        episode = generate_episode(env, gamma=gamma, max_steps=200)\n",
    "\n",
    "        G = 0.0\n",
    "        W = 1.0\n",
    "        # Backward pass through the episode\n",
    "        for t in reversed(range(len(episode))):\n",
    "            i, j, a, r, b_prob = episode[t]\n",
    "            G = gamma * G + r\n",
    "\n",
    "            # Update cumulative weight and Q via weighted IS\n",
    "            C[i, j, a] += W\n",
    "            # Incremental mean: Q <- Q + (W/C) * (G - Q)\n",
    "            Q[i, j, a] += (W / C[i, j, a]) * (G - Q[i, j, a])\n",
    "\n",
    "            # If the action taken is NOT greedy under current Q, stop (π(a|s)=0 beyond this point)\n",
    "            greedy_a = greedy_action(Q, i, j)\n",
    "            if a != greedy_a:\n",
    "                break\n",
    "\n",
    "            # Otherwise, continue weighting: multiply by 1 / b(a|s)\n",
    "            # (since π(a|s)=1 for the greedy action)\n",
    "            W *= 1.0 / b_prob\n",
    "\n",
    "    elapsed = time.time() - start\n",
    "    return Q, elapsed\n"
   ]
  },
  {
   "cell_type": "markdown",
   "id": "5a6ebeef",
   "metadata": {},
   "source": [
    "**Run the off-policy MC control algorithm**"
   ]
  },
  {
   "cell_type": "code",
   "execution_count": null,
   "id": "f6b65878",
   "metadata": {},
   "outputs": [
    {
     "name": "stdout",
     "output_type": "stream",
     "text": [
      "\n",
      "[MC Off-Policy with IS] Episodes: 5000, Time: 1.1185s\n"
     ]
    },
    {
     "data": {
      "image/png": "[encoded data removed]",
      "text/plain": [
       "<Figure size 400x400 with 1 Axes>"
      ]
     },
     "metadata": {},
     "output_type": "display_data"
    }
   ],
   "source": [
    "# Compile  MC, derive V and π, and print tables\n",
    "\n",
    "gamma = 0.9\n",
    "episodes = 5000  # you can increase to reduce variance\n",
    "\n",
    "Q_mc, mc_time = offpolicy_mc_control(env, num_episodes=episodes, gamma=gamma)\n",
    "\n",
    "V_mc = Q_mc.max(axis=2)\n",
    "PI_mc = np.argmax(Q_mc, axis=2)  # greedy policy from Q_mc\n",
    "\n",
    "\n",
    "print(f\"\\n[MC Off-Policy with IS] Episodes: {episodes}, Time: {mc_time:.4f}s\")\n",
    "\n",
    "\n",
    "# Optional: arrows for visualization\n",
    "plot_heatmap_with_policy(V_mc, PI_mc, \"MC Off-Policy V(s) and π(s)\")"
   ]
  },
  {
   "cell_type": "markdown",
   "id": "a4383cf8",
   "metadata": {},
   "source": [
    "### **Comparison: Value Iteration vs Monte Carlo Off-policy (IS)**\n",
    "\n",
    "| Method                  | Time (s)   | Iterations/Episodes | Complexity                       | Notes                                                   |\n",
    "|--------------------------|-----------:|---------------------|----------------------------------|---------------------------------------------------------|\n",
    "| Value Iteration (normal) | 0.00319    | 9 iterations        | O(S*A) per iteration         | Exact given the model; very fast and stable             |\n",
    "| Value Iteration (in-place) | 0.00299 | 9 iterations        | O(S*A) per iteration           | Same V* and π*; slightly faster; advantage in larger grids |\n",
    "| Monte Carlo (Off-policy IS) | 1.1062 | 5000 episodes       | O(episodes × avg. episode length) | Approximates V(s); higher variance; same policy trend but noisier |\n",
    "\n",
    "**Summary:** \n",
    "\n",
    "> In this 5×5 gridworld, both versions of Value Iteration (VI) converged in 9 iterations and under 0.004 seconds, **producing exact and stable results**. \n",
    "\n",
    "The difference comes from the fact that VI performs deterministic sweeps over all states, while **Monte Carlo requires thousands of episodes to reduce variance**. \n",
    "\n",
    "> Monte Carlo Off-policy with Importance Sampling required 5000 episodes and about 1.1 seconds to approximate the value function.\n",
    "\n",
    "Iterations and episodes are not the same: one iteration updates all states, while one episode only visits some states and actions. \n",
    "\n",
    "> VI (normal and in-place) produced the same tables with consistent values (for example: (4,3)=10, (0,0)≈−0.4 with γ=0.9). MC Off-policy showed the same gradient trend toward the goal but with less precision in distant states (for example: (0,0)=0 in MC vs −0.4 in VI).\n",
    "\n",
    "> In all three cases, the greedy policy π(s) was the same, pointing to the goal (down/right). *Monte Carlo can show small fluctuations in far states when Q-values have high variance*.\n",
    "\n"
   ]
  }
 ],
 "metadata": {
  "kernelspec": {
   "display_name": "venv",
   "language": "python",
   "name": "python3"
  },
  "language_info": {
   "codemirror_mode": {
    "name": "ipython",
    "version": 3
   },
   "file_extension": ".py",
   "mimetype": "text/x-python",
   "name": "python",
   "nbconvert_exporter": "python",
   "pygments_lexer": "ipython3",
   "version": "3.12.2"
  }
 },
 "nbformat": 4,
 "nbformat_minor": 5
}
